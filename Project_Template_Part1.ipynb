{
 "cells": [
  {
   "cell_type": "markdown",
   "metadata": {},
   "source": [
    "# Project Template: Phase 1\n",
    "\n",
    "Below are some concrete steps that you can take while doing your analysis. This guide isn't \"one size fit all\" so you will probably not do everything listed. But it still serves as a good \"pipeline\" for how to do data analysis.\n",
    "\n",
    "If you do engage in a step, you should clearly mention it in the notebook.\n",
    "\n",
    "---\n"
   ]
  },
  {
   "cell_type": "code",
   "execution_count": 1,
   "metadata": {},
   "outputs": [],
   "source": [
    "import pandas as pd\n",
    "import numpy as np\n",
    "import sklearn\n",
    "import json\n",
    "import warnings\n",
    "warnings.filterwarnings('ignore')"
   ]
  },
  {
   "cell_type": "markdown",
   "metadata": {},
   "source": [
    "## Loading Data\n",
    "\n",
    "In the cells below, make sure to do the following:\n",
    "\n",
    "1. Load your dataset. If your dataset contains multiple files (e.g. AirBnB), make sure to merge them.\n",
    "2. Decide what attribute you want to predict (you can change your mind later during EDA if needed).\n",
    "\n",
    "### Types of Attributes\n",
    "\n",
    "Below are some examples of types of attributes you may encounter. For some types of data, ML algorithms cannot use them directly, so we have to encode them somehow. We have summarized ways to deal with these non-traditional data types. There are more examples in Follow content for this week.\n",
    "\n",
    "Make a note of which types of data your dataset has.\n",
    "\n",
    "Traditional data types (individual numbers/values): no transformation needed\n",
    "\n",
    "  * Nominal\n",
    "    * Binary\n",
    "  * Ordinal\n",
    "  * Interval\n",
    "  * Ratio\n",
    "  * Continuous\n",
    "  * Discrete\n",
    "\n",
    "Non-traditional data types:\n",
    " \n",
    "* **Text**\n",
    "    * Encode with: [Bag of Words](https://scikit-learn.org/stable/modules/feature_extraction.html#the-bag-of-words-representation), [TF-IDF](https://scikit-learn.org/stable/modules/feature_extraction.html#tfidf-term-weighting), Embeddings\n",
    "* **Sets** (e.g. tags {\"Blog\", \"Video\", \"Finance Article\"})\n",
    "    * We should not treat these like  bag of words, since tags can be multi word\n",
    "    * We can use [one hot encoding](https://scikit-learn.org/stable/modules/generated/sklearn.preprocessing.OneHotEncoder.html).\n",
    "* **Time series data**: A series of numbers, e.g. predict the stock price next year from the last N years of prices.\n",
    "    * Naive approaches: We can use each of the following as a separate feature:\n",
    "        * Last value: Use the last value in the series.\n",
    "        * Average, Median: Use the average or median of the values.\n",
    "        * Max/min: Use the max and min of the values.\n",
    "    * A more effective approach is to use a ML model that can take time-series data in as an input, such as an [Long Short-Term Memory](https://en.wikipedia.org/wiki/Long_short-term_memory) model, but these are out of scope for this course.\n",
    "* **Numeric Data** that isn't directly interpretable (e.g. geospatial data)\n",
    "    * This varies from situation to situation. Sometimes your data is numeric but isn't directly predictive of your class label (e.g. latitude and longitude; movie title). However, you may be able to combine this with other datasets to construct more meaningful features (e.g. State, Movie Genre)."
   ]
  },
  {
   "cell_type": "code",
   "execution_count": 2,
   "metadata": {},
   "outputs": [],
   "source": [
    "df = pd.read_csv(\"./train.csv\")"
   ]
  },
  {
   "cell_type": "code",
   "execution_count": 3,
   "metadata": {},
   "outputs": [
    {
     "data": {
      "text/plain": [
       "(6593274, 9)"
      ]
     },
     "execution_count": 3,
     "metadata": {},
     "output_type": "execute_result"
    }
   ],
   "source": [
    "df.shape"
   ]
  },
  {
   "cell_type": "markdown",
   "metadata": {},
   "source": [
    "The attribute I will predict is: **Target**"
   ]
  },
  {
   "cell_type": "markdown",
   "metadata": {},
   "source": [
    "## Exploratory Data Analysis (EDA)\n",
    "\n",
    "Using some of the techniques in the \"Follow\" document, explore your dataset. Then answer the following questions (you don't have to solve the problems yet - just be aware of them):"
   ]
  },
  {
   "cell_type": "markdown",
   "metadata": {},
   "source": [
    "1. What attribute are you predicting and what type of supervised learning is this?\n",
    "    * Binary Classification: Just 2 class labels\n",
    "    * Multi-class classification: More than 2 class labels\n",
    "    * Regression: A continuous variable\n",
    "    * Ordinal classification: Predicting an ordinal value, e.g. a rating on a 5-star scale \n",
    "        * This is tricky! Do you want to change this into regression or binarize your variable to make this binary classification?\n",
    "\n",
    "2. Do you need to perform feature selection?\n",
    "    * E.g. do you have hihgly correlated features?\n",
    "\n",
    "3. Do you have any non-traditional attributes (see the list above)? If so how will you encode them? (You don't have to do it yet.)\n",
    "\n",
    "4. If you are doing classification, are your class labels balanced (similar numbers of instances from each class)?\n",
    "\n",
    "5. If you are doing regression, how is your dependent variable distributed (e.g. normally, skewed)?\n",
    "    \n",
    "6. Do any of your features need transformation (e.g. because they have a skewed distribution)?\n"
   ]
  },
  {
   "cell_type": "code",
   "execution_count": 4,
   "metadata": {
    "scrolled": true
   },
   "outputs": [
    {
     "data": {
      "text/html": [
       "<div>\n",
       "<style scoped>\n",
       "    .dataframe tbody tr th:only-of-type {\n",
       "        vertical-align: middle;\n",
       "    }\n",
       "\n",
       "    .dataframe tbody tr th {\n",
       "        vertical-align: top;\n",
       "    }\n",
       "\n",
       "    .dataframe thead th {\n",
       "        text-align: right;\n",
       "    }\n",
       "</style>\n",
       "<table border=\"1\" class=\"dataframe\">\n",
       "  <thead>\n",
       "    <tr style=\"text-align: right;\">\n",
       "      <th></th>\n",
       "      <th>Station</th>\n",
       "      <th>Ob</th>\n",
       "      <th>value</th>\n",
       "      <th>measure</th>\n",
       "      <th>target</th>\n",
       "      <th>R_flag</th>\n",
       "      <th>I_flag</th>\n",
       "      <th>Z_flag</th>\n",
       "      <th>B_flag</th>\n",
       "    </tr>\n",
       "  </thead>\n",
       "  <tbody>\n",
       "    <tr>\n",
       "      <th>0</th>\n",
       "      <td>AURO</td>\n",
       "      <td>1/2/2021 0:30</td>\n",
       "      <td>19.2</td>\n",
       "      <td>temp_wxt</td>\n",
       "      <td>False</td>\n",
       "      <td>2</td>\n",
       "      <td>-1</td>\n",
       "      <td>0</td>\n",
       "      <td>1</td>\n",
       "    </tr>\n",
       "    <tr>\n",
       "      <th>1</th>\n",
       "      <td>AURO</td>\n",
       "      <td>1/2/2021 4:30</td>\n",
       "      <td>19.8</td>\n",
       "      <td>temp_wxt</td>\n",
       "      <td>False</td>\n",
       "      <td>2</td>\n",
       "      <td>-1</td>\n",
       "      <td>0</td>\n",
       "      <td>1</td>\n",
       "    </tr>\n",
       "    <tr>\n",
       "      <th>2</th>\n",
       "      <td>AURO</td>\n",
       "      <td>1/2/2021 5:30</td>\n",
       "      <td>19.5</td>\n",
       "      <td>temp_wxt</td>\n",
       "      <td>False</td>\n",
       "      <td>2</td>\n",
       "      <td>-1</td>\n",
       "      <td>0</td>\n",
       "      <td>1</td>\n",
       "    </tr>\n",
       "    <tr>\n",
       "      <th>3</th>\n",
       "      <td>AURO</td>\n",
       "      <td>1/2/2021 7:30</td>\n",
       "      <td>18.5</td>\n",
       "      <td>temp_wxt</td>\n",
       "      <td>False</td>\n",
       "      <td>2</td>\n",
       "      <td>-1</td>\n",
       "      <td>0</td>\n",
       "      <td>1</td>\n",
       "    </tr>\n",
       "    <tr>\n",
       "      <th>4</th>\n",
       "      <td>AURO</td>\n",
       "      <td>2/16/2021 2:30</td>\n",
       "      <td>17.7</td>\n",
       "      <td>temp_wxt</td>\n",
       "      <td>False</td>\n",
       "      <td>2</td>\n",
       "      <td>-1</td>\n",
       "      <td>0</td>\n",
       "      <td>1</td>\n",
       "    </tr>\n",
       "  </tbody>\n",
       "</table>\n",
       "</div>"
      ],
      "text/plain": [
       "  Station              Ob  value   measure  target  R_flag  I_flag  Z_flag  \\\n",
       "0    AURO   1/2/2021 0:30   19.2  temp_wxt   False       2      -1       0   \n",
       "1    AURO   1/2/2021 4:30   19.8  temp_wxt   False       2      -1       0   \n",
       "2    AURO   1/2/2021 5:30   19.5  temp_wxt   False       2      -1       0   \n",
       "3    AURO   1/2/2021 7:30   18.5  temp_wxt   False       2      -1       0   \n",
       "4    AURO  2/16/2021 2:30   17.7  temp_wxt   False       2      -1       0   \n",
       "\n",
       "   B_flag  \n",
       "0       1  \n",
       "1       1  \n",
       "2       1  \n",
       "3       1  \n",
       "4       1  "
      ]
     },
     "execution_count": 4,
     "metadata": {},
     "output_type": "execute_result"
    }
   ],
   "source": [
    "df.head()"
   ]
  },
  {
   "cell_type": "code",
   "execution_count": 5,
   "metadata": {},
   "outputs": [
    {
     "data": {
      "text/html": [
       "<div>\n",
       "<style scoped>\n",
       "    .dataframe tbody tr th:only-of-type {\n",
       "        vertical-align: middle;\n",
       "    }\n",
       "\n",
       "    .dataframe tbody tr th {\n",
       "        vertical-align: top;\n",
       "    }\n",
       "\n",
       "    .dataframe thead th {\n",
       "        text-align: right;\n",
       "    }\n",
       "</style>\n",
       "<table border=\"1\" class=\"dataframe\">\n",
       "  <thead>\n",
       "    <tr style=\"text-align: right;\">\n",
       "      <th></th>\n",
       "      <th>Station</th>\n",
       "      <th>Ob</th>\n",
       "      <th>value</th>\n",
       "      <th>measure</th>\n",
       "      <th>target</th>\n",
       "      <th>R_flag</th>\n",
       "      <th>I_flag</th>\n",
       "      <th>Z_flag</th>\n",
       "      <th>B_flag</th>\n",
       "    </tr>\n",
       "  </thead>\n",
       "  <tbody>\n",
       "    <tr>\n",
       "      <th>0</th>\n",
       "      <td>AURO</td>\n",
       "      <td>1/2/2021 0:30</td>\n",
       "      <td>19.2</td>\n",
       "      <td>temp_wxt</td>\n",
       "      <td>False</td>\n",
       "      <td>2</td>\n",
       "      <td>-1</td>\n",
       "      <td>0</td>\n",
       "      <td>1</td>\n",
       "    </tr>\n",
       "    <tr>\n",
       "      <th>1</th>\n",
       "      <td>AURO</td>\n",
       "      <td>1/2/2021 4:30</td>\n",
       "      <td>19.8</td>\n",
       "      <td>temp_wxt</td>\n",
       "      <td>False</td>\n",
       "      <td>2</td>\n",
       "      <td>-1</td>\n",
       "      <td>0</td>\n",
       "      <td>1</td>\n",
       "    </tr>\n",
       "    <tr>\n",
       "      <th>2</th>\n",
       "      <td>AURO</td>\n",
       "      <td>1/2/2021 5:30</td>\n",
       "      <td>19.5</td>\n",
       "      <td>temp_wxt</td>\n",
       "      <td>False</td>\n",
       "      <td>2</td>\n",
       "      <td>-1</td>\n",
       "      <td>0</td>\n",
       "      <td>1</td>\n",
       "    </tr>\n",
       "    <tr>\n",
       "      <th>3</th>\n",
       "      <td>AURO</td>\n",
       "      <td>1/2/2021 7:30</td>\n",
       "      <td>18.5</td>\n",
       "      <td>temp_wxt</td>\n",
       "      <td>False</td>\n",
       "      <td>2</td>\n",
       "      <td>-1</td>\n",
       "      <td>0</td>\n",
       "      <td>1</td>\n",
       "    </tr>\n",
       "    <tr>\n",
       "      <th>4</th>\n",
       "      <td>AURO</td>\n",
       "      <td>2/16/2021 2:30</td>\n",
       "      <td>17.7</td>\n",
       "      <td>temp_wxt</td>\n",
       "      <td>False</td>\n",
       "      <td>2</td>\n",
       "      <td>-1</td>\n",
       "      <td>0</td>\n",
       "      <td>1</td>\n",
       "    </tr>\n",
       "  </tbody>\n",
       "</table>\n",
       "</div>"
      ],
      "text/plain": [
       "  Station              Ob  value   measure  target  R_flag  I_flag  Z_flag  \\\n",
       "0    AURO   1/2/2021 0:30   19.2  temp_wxt   False       2      -1       0   \n",
       "1    AURO   1/2/2021 4:30   19.8  temp_wxt   False       2      -1       0   \n",
       "2    AURO   1/2/2021 5:30   19.5  temp_wxt   False       2      -1       0   \n",
       "3    AURO   1/2/2021 7:30   18.5  temp_wxt   False       2      -1       0   \n",
       "4    AURO  2/16/2021 2:30   17.7  temp_wxt   False       2      -1       0   \n",
       "\n",
       "   B_flag  \n",
       "0       1  \n",
       "1       1  \n",
       "2       1  \n",
       "3       1  \n",
       "4       1  "
      ]
     },
     "execution_count": 5,
     "metadata": {},
     "output_type": "execute_result"
    }
   ],
   "source": [
    "UniqueStations = df.Station.unique()\n",
    "DataFrameDict = {e : pd.DataFrame for e in UniqueStations}\n",
    "stationdfDict = {e : pd.DataFrame for e in UniqueStations}\n",
    "\n",
    "for key in DataFrameDict.keys():\n",
    "    DataFrameDict[key] = df[:][df.Station == key]\n",
    "    fileName = key + \"_2021.csv\"\n",
    "    full = \"./full/\" + fileName\n",
    "    stationdfDict[key] = pd.read_csv(full)\n",
    "    \n",
    "DataFrameDict['AURO'].head()"
   ]
  },
  {
   "cell_type": "code",
   "execution_count": 6,
   "metadata": {
    "scrolled": true
   },
   "outputs": [
    {
     "data": {
      "text/html": [
       "<div>\n",
       "<style scoped>\n",
       "    .dataframe tbody tr th:only-of-type {\n",
       "        vertical-align: middle;\n",
       "    }\n",
       "\n",
       "    .dataframe tbody tr th {\n",
       "        vertical-align: top;\n",
       "    }\n",
       "\n",
       "    .dataframe thead th {\n",
       "        text-align: right;\n",
       "    }\n",
       "</style>\n",
       "<table border=\"1\" class=\"dataframe\">\n",
       "  <thead>\n",
       "    <tr style=\"text-align: right;\">\n",
       "      <th></th>\n",
       "      <th>Station_x</th>\n",
       "      <th>Ob</th>\n",
       "      <th>value</th>\n",
       "      <th>measure</th>\n",
       "      <th>target</th>\n",
       "      <th>R_flag</th>\n",
       "      <th>I_flag</th>\n",
       "      <th>Z_flag</th>\n",
       "      <th>B_flag</th>\n",
       "      <th>Unnamed: 0</th>\n",
       "      <th>...</th>\n",
       "      <th>sm</th>\n",
       "      <th>temp10</th>\n",
       "      <th>ws02</th>\n",
       "      <th>wd02</th>\n",
       "      <th>gust02</th>\n",
       "      <th>ws06</th>\n",
       "      <th>wd06</th>\n",
       "      <th>gust06</th>\n",
       "      <th>leafwetness</th>\n",
       "      <th>blackglobetemp</th>\n",
       "    </tr>\n",
       "  </thead>\n",
       "  <tbody>\n",
       "    <tr>\n",
       "      <th>0</th>\n",
       "      <td>AURO</td>\n",
       "      <td>1/2/2021 0:30</td>\n",
       "      <td>19.200</td>\n",
       "      <td>temp_wxt</td>\n",
       "      <td>False</td>\n",
       "      <td>2</td>\n",
       "      <td>-1</td>\n",
       "      <td>0</td>\n",
       "      <td>1</td>\n",
       "      <td>1470</td>\n",
       "      <td>...</td>\n",
       "      <td>0.516</td>\n",
       "      <td>20.00</td>\n",
       "      <td>2.9</td>\n",
       "      <td>182.0</td>\n",
       "      <td>3.3</td>\n",
       "      <td>3.484</td>\n",
       "      <td>187.1</td>\n",
       "      <td>6.096</td>\n",
       "      <td>389.0</td>\n",
       "      <td>19.10</td>\n",
       "    </tr>\n",
       "    <tr>\n",
       "      <th>1</th>\n",
       "      <td>AURO</td>\n",
       "      <td>1/2/2021 0:30</td>\n",
       "      <td>0.516</td>\n",
       "      <td>sm</td>\n",
       "      <td>False</td>\n",
       "      <td>0</td>\n",
       "      <td>-1</td>\n",
       "      <td>-1</td>\n",
       "      <td>1</td>\n",
       "      <td>1470</td>\n",
       "      <td>...</td>\n",
       "      <td>0.516</td>\n",
       "      <td>20.00</td>\n",
       "      <td>2.9</td>\n",
       "      <td>182.0</td>\n",
       "      <td>3.3</td>\n",
       "      <td>3.484</td>\n",
       "      <td>187.1</td>\n",
       "      <td>6.096</td>\n",
       "      <td>389.0</td>\n",
       "      <td>19.10</td>\n",
       "    </tr>\n",
       "    <tr>\n",
       "      <th>2</th>\n",
       "      <td>AURO</td>\n",
       "      <td>1/2/2021 4:30</td>\n",
       "      <td>19.800</td>\n",
       "      <td>temp_wxt</td>\n",
       "      <td>False</td>\n",
       "      <td>2</td>\n",
       "      <td>-1</td>\n",
       "      <td>0</td>\n",
       "      <td>1</td>\n",
       "      <td>1710</td>\n",
       "      <td>...</td>\n",
       "      <td>0.516</td>\n",
       "      <td>19.84</td>\n",
       "      <td>0.8</td>\n",
       "      <td>198.0</td>\n",
       "      <td>1.2</td>\n",
       "      <td>1.640</td>\n",
       "      <td>214.0</td>\n",
       "      <td>2.626</td>\n",
       "      <td>332.8</td>\n",
       "      <td>19.46</td>\n",
       "    </tr>\n",
       "    <tr>\n",
       "      <th>3</th>\n",
       "      <td>AURO</td>\n",
       "      <td>1/2/2021 4:30</td>\n",
       "      <td>0.516</td>\n",
       "      <td>sm</td>\n",
       "      <td>False</td>\n",
       "      <td>0</td>\n",
       "      <td>-1</td>\n",
       "      <td>-1</td>\n",
       "      <td>0</td>\n",
       "      <td>1710</td>\n",
       "      <td>...</td>\n",
       "      <td>0.516</td>\n",
       "      <td>19.84</td>\n",
       "      <td>0.8</td>\n",
       "      <td>198.0</td>\n",
       "      <td>1.2</td>\n",
       "      <td>1.640</td>\n",
       "      <td>214.0</td>\n",
       "      <td>2.626</td>\n",
       "      <td>332.8</td>\n",
       "      <td>19.46</td>\n",
       "    </tr>\n",
       "    <tr>\n",
       "      <th>4</th>\n",
       "      <td>AURO</td>\n",
       "      <td>1/2/2021 4:30</td>\n",
       "      <td>19.840</td>\n",
       "      <td>temp10</td>\n",
       "      <td>False</td>\n",
       "      <td>0</td>\n",
       "      <td>-1</td>\n",
       "      <td>-1</td>\n",
       "      <td>0</td>\n",
       "      <td>1710</td>\n",
       "      <td>...</td>\n",
       "      <td>0.516</td>\n",
       "      <td>19.84</td>\n",
       "      <td>0.8</td>\n",
       "      <td>198.0</td>\n",
       "      <td>1.2</td>\n",
       "      <td>1.640</td>\n",
       "      <td>214.0</td>\n",
       "      <td>2.626</td>\n",
       "      <td>332.8</td>\n",
       "      <td>19.46</td>\n",
       "    </tr>\n",
       "  </tbody>\n",
       "</table>\n",
       "<p>5 rows × 34 columns</p>\n",
       "</div>"
      ],
      "text/plain": [
       "  Station_x             Ob   value   measure  target  R_flag  I_flag  Z_flag  \\\n",
       "0      AURO  1/2/2021 0:30  19.200  temp_wxt   False       2      -1       0   \n",
       "1      AURO  1/2/2021 0:30   0.516        sm   False       0      -1      -1   \n",
       "2      AURO  1/2/2021 4:30  19.800  temp_wxt   False       2      -1       0   \n",
       "3      AURO  1/2/2021 4:30   0.516        sm   False       0      -1      -1   \n",
       "4      AURO  1/2/2021 4:30  19.840    temp10   False       0      -1      -1   \n",
       "\n",
       "   B_flag  Unnamed: 0  ...     sm  temp10  ws02   wd02  gust02   ws06   wd06  \\\n",
       "0       1        1470  ...  0.516   20.00   2.9  182.0     3.3  3.484  187.1   \n",
       "1       1        1470  ...  0.516   20.00   2.9  182.0     3.3  3.484  187.1   \n",
       "2       1        1710  ...  0.516   19.84   0.8  198.0     1.2  1.640  214.0   \n",
       "3       0        1710  ...  0.516   19.84   0.8  198.0     1.2  1.640  214.0   \n",
       "4       0        1710  ...  0.516   19.84   0.8  198.0     1.2  1.640  214.0   \n",
       "\n",
       "   gust06  leafwetness  blackglobetemp  \n",
       "0   6.096        389.0           19.10  \n",
       "1   6.096        389.0           19.10  \n",
       "2   2.626        332.8           19.46  \n",
       "3   2.626        332.8           19.46  \n",
       "4   2.626        332.8           19.46  \n",
       "\n",
       "[5 rows x 34 columns]"
      ]
     },
     "execution_count": 6,
     "metadata": {},
     "output_type": "execute_result"
    }
   ],
   "source": [
    "for key in DataFrameDict.keys():      \n",
    "    #temp = pd.concat([DataFrameDict[key], stationdfDict[key]], axis=1, keys=\"Ob\", join=\"inner\")\n",
    "    temp = DataFrameDict[key].merge(stationdfDict[key], on= \"Ob\", how='inner') \n",
    "    stationdfDict[key] = 0\n",
    "    DataFrameDict[key] = temp\n",
    "\n",
    "DataFrameDict['AURO'].head()"
   ]
  },
  {
   "cell_type": "code",
   "execution_count": 7,
   "metadata": {},
   "outputs": [
    {
     "data": {
      "text/plain": [
       "(6593274, 34)"
      ]
     },
     "execution_count": 7,
     "metadata": {},
     "output_type": "execute_result"
    }
   ],
   "source": [
    "full = DataFrameDict['AURO']\n",
    "\n",
    "for key in DataFrameDict.keys(): \n",
    "    if key != 'AURO':\n",
    "        full = pd.concat([full, DataFrameDict[key]])\n",
    "        \n",
    "full.shape"
   ]
  },
  {
   "cell_type": "code",
   "execution_count": 8,
   "metadata": {},
   "outputs": [],
   "source": [
    "#compression_opts = dict(method='zip', archive_name='full.csv')  \n",
    "#full.to_csv('full.zip', index=False, compression=compression_opts)  \n",
    "full.to_csv('full.csv', index=False, header=True)"
   ]
  },
  {
   "cell_type": "code",
   "execution_count": 9,
   "metadata": {},
   "outputs": [],
   "source": [
    "DataFrameDict = 0"
   ]
  },
  {
   "cell_type": "markdown",
   "metadata": {},
   "source": [
    "Answer the questions below:\n",
    "\n",
    "1. \n",
    "2. \n",
    "3. \n",
    "4. \n",
    "5. \n",
    "6. "
   ]
  },
  {
   "cell_type": "markdown",
   "metadata": {},
   "source": [
    "## Preprocessing\n",
    "\n",
    "Do the following steps on your data (and any others you think are needed). See the \"Follow\" examples, as well as the original Week 2 materials for more on how to do each step.\n",
    "\n",
    "1. **Feature Cleaning**: Remove meaningless features (e.g. IDs), or unfair features that make the problem too easy (e.g. percent grade should be removed if predicing final letter grade).\n",
    "2. **Feature Discretization**: Discretize any attributes that should be discretized.\n",
    "3. **Feature Transformation** Encode non-standard features into usable formats (standardize dates, vectorize words). Tranform any features (e.g. using a log-transform) as needed.\n",
    "4. **Feature Selection**: Remove redundant, noisy features or unhelpful features.\n",
    "5. **Aggregation**: If your data has multiple rows per class label, transform it so that there is only one row per class label.\n",
    "\n",
    "Now revisit EDA as needed to see what your transformed dataset looks like.\n",
    "\n",
    "If you don't need to do a given step, just skip it an exaplin why."
   ]
  },
  {
   "cell_type": "markdown",
   "metadata": {},
   "source": [
    "### 1) Feature cleaning"
   ]
  },
  {
   "cell_type": "code",
   "execution_count": null,
   "metadata": {},
   "outputs": [],
   "source": []
  },
  {
   "cell_type": "markdown",
   "metadata": {},
   "source": [
    "### 2) Feature discretization"
   ]
  },
  {
   "cell_type": "code",
   "execution_count": null,
   "metadata": {},
   "outputs": [],
   "source": []
  },
  {
   "cell_type": "markdown",
   "metadata": {},
   "source": [
    "### 3) Feature transformation\n"
   ]
  },
  {
   "cell_type": "code",
   "execution_count": null,
   "metadata": {},
   "outputs": [],
   "source": []
  },
  {
   "cell_type": "markdown",
   "metadata": {},
   "source": [
    "### 4) Feature selection"
   ]
  },
  {
   "cell_type": "code",
   "execution_count": null,
   "metadata": {},
   "outputs": [],
   "source": []
  },
  {
   "cell_type": "markdown",
   "metadata": {},
   "source": [
    "### 5) Aggregation"
   ]
  },
  {
   "cell_type": "code",
   "execution_count": null,
   "metadata": {},
   "outputs": [],
   "source": []
  },
  {
   "cell_type": "markdown",
   "metadata": {},
   "source": [
    "### Revisiting EDA"
   ]
  },
  {
   "cell_type": "code",
   "execution_count": null,
   "metadata": {},
   "outputs": [],
   "source": []
  }
 ],
 "metadata": {
  "kernelspec": {
   "display_name": "Python 3 (ipykernel)",
   "language": "python",
   "name": "python3"
  },
  "language_info": {
   "codemirror_mode": {
    "name": "ipython",
    "version": 3
   },
   "file_extension": ".py",
   "mimetype": "text/x-python",
   "name": "python",
   "nbconvert_exporter": "python",
   "pygments_lexer": "ipython3",
   "version": "3.9.7"
  }
 },
 "nbformat": 4,
 "nbformat_minor": 4
}
